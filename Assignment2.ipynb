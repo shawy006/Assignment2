{
 "cells": [
  {
   "cell_type": "code",
   "execution_count": 2,
   "id": "374a1c30",
   "metadata": {},
   "outputs": [],
   "source": [
    "# 'def' is the keyword to define a function."
   ]
  },
  {
   "cell_type": "code",
   "execution_count": 3,
   "id": "ca14b8bd",
   "metadata": {},
   "outputs": [
    {
     "data": {
      "text/plain": [
       "[1, 3, 5, 7, 9, 11, 13, 15, 17, 19, 21, 23, 25]"
      ]
     },
     "execution_count": 3,
     "metadata": {},
     "output_type": "execute_result"
    }
   ],
   "source": [
    "def odd_number_return():\n",
    "    return [i for i in range(1,26) if i%2!=0]\n",
    "odd_number_return()"
   ]
  },
  {
   "cell_type": "code",
   "execution_count": 4,
   "id": "cb2ef6d9",
   "metadata": {},
   "outputs": [],
   "source": [
    "# when user provides multiple inputs/key-value pairs to the functions then *shashwat or **kwshashwat is used."
   ]
  },
  {
   "cell_type": "code",
   "execution_count": 14,
   "id": "287c8d8b",
   "metadata": {},
   "outputs": [
    {
     "name": "stdout",
     "output_type": "stream",
     "text": [
      "3\n"
     ]
    }
   ],
   "source": [
    "#   Generator is a function that return iterator where we use yield keyword for defining it and return value ,\n",
    "#   it provides space efficient method for data processing. Yield is same as return but return executes when function is fully \n",
    "#   executed but yield keyword pauses generator function execution. \n",
    "\n",
    "\n",
    "#PROGRAM FOR USING YIELD AS BOOLEAN\n",
    "def generator_fun(string):\n",
    "    for i in string.split():\n",
    "        if i=='data':\n",
    "            yield i\n",
    "string='I am studying data science , data analysis and data engineering from Sudhanshu sir.'\n",
    "gen=generator_fun(string)\n",
    "count=0\n",
    "for i in gen:\n",
    "    count+=1\n",
    "print(count)\n",
    "\n",
    "\n",
    "\n"
   ]
  },
  {
   "cell_type": "code",
   "execution_count": 24,
   "id": "1c0b9705",
   "metadata": {},
   "outputs": [
    {
     "name": "stdout",
     "output_type": "stream",
     "text": [
      "2\n",
      "3\n",
      "5\n",
      "7\n",
      "11\n",
      "13\n",
      "17\n",
      "19\n",
      "23\n",
      "29\n",
      "31\n",
      "37\n",
      "41\n",
      "43\n",
      "47\n",
      "53\n",
      "59\n",
      "61\n",
      "67\n",
      "71\n"
     ]
    }
   ],
   "source": [
    "def prime_number():\n",
    "    for i in range(2,1001):\n",
    "        for j in range(2,(i//2)+1):\n",
    "            if i%j==0:\n",
    "                break\n",
    "        else:\n",
    "            yield i\n",
    "        \n",
    "prime_gen=prime_number()\n",
    "type(prime_gen)\n",
    "for i in range(20):\n",
    "    print(next(prime_gen))"
   ]
  },
  {
   "cell_type": "code",
   "execution_count": 23,
   "id": "690a9440",
   "metadata": {},
   "outputs": [
    {
     "name": "stdout",
     "output_type": "stream",
     "text": [
      "88\n"
     ]
    }
   ],
   "source": [
    "a,b,fibb,sum=0,1,1,0\n",
    "while fibb<=10:\n",
    "    sum+=a\n",
    "    c=a+b\n",
    "    a,b=b,c\n",
    "    fibb+=1\n",
    "print(sum)\n",
    "    "
   ]
  },
  {
   "cell_type": "code",
   "execution_count": 29,
   "id": "1cf56a0b",
   "metadata": {},
   "outputs": [
    {
     "data": {
      "text/plain": [
       "['p', 'w', 's', 'k', 'i', 'l', 'l', 's']"
      ]
     },
     "execution_count": 29,
     "metadata": {},
     "output_type": "execute_result"
    }
   ],
   "source": [
    "[i for i in 'pwskills']"
   ]
  },
  {
   "cell_type": "code",
   "execution_count": 42,
   "id": "5b4c512b",
   "metadata": {},
   "outputs": [
    {
     "name": "stdout",
     "output_type": "stream",
     "text": [
      "1256521\n",
      "Palindrome Number\n"
     ]
    }
   ],
   "source": [
    "num=int(input())\n",
    "dup_num,rev=num,0\n",
    "while num!=0:\n",
    "    remainder=num%10\n",
    "    rev=rev*10+remainder\n",
    "    num=int(num/10)\n",
    "if rev==dup_num:\n",
    "    print('Palindrome Number')\n",
    "else:\n",
    "    print('Not Palindrome Number')\n",
    "\n",
    "    \n",
    "    "
   ]
  },
  {
   "cell_type": "code",
   "execution_count": 43,
   "id": "f5fc44b9",
   "metadata": {},
   "outputs": [
    {
     "data": {
      "text/plain": [
       "[1,\n",
       " 3,\n",
       " 5,\n",
       " 7,\n",
       " 9,\n",
       " 11,\n",
       " 13,\n",
       " 15,\n",
       " 17,\n",
       " 19,\n",
       " 21,\n",
       " 23,\n",
       " 25,\n",
       " 27,\n",
       " 29,\n",
       " 31,\n",
       " 33,\n",
       " 35,\n",
       " 37,\n",
       " 39,\n",
       " 41,\n",
       " 43,\n",
       " 45,\n",
       " 47,\n",
       " 49,\n",
       " 51,\n",
       " 53,\n",
       " 55,\n",
       " 57,\n",
       " 59,\n",
       " 61,\n",
       " 63,\n",
       " 65,\n",
       " 67,\n",
       " 69,\n",
       " 71,\n",
       " 73,\n",
       " 75,\n",
       " 77,\n",
       " 79,\n",
       " 81,\n",
       " 83,\n",
       " 85,\n",
       " 87,\n",
       " 89,\n",
       " 91,\n",
       " 93,\n",
       " 95,\n",
       " 97,\n",
       " 99]"
      ]
     },
     "execution_count": 43,
     "metadata": {},
     "output_type": "execute_result"
    }
   ],
   "source": [
    "[i for i in range(1,101) if i%2!=0]"
   ]
  },
  {
   "cell_type": "code",
   "execution_count": null,
   "id": "594786db",
   "metadata": {},
   "outputs": [],
   "source": []
  }
 ],
 "metadata": {
  "kernelspec": {
   "display_name": "Python 3 (ipykernel)",
   "language": "python",
   "name": "python3"
  },
  "language_info": {
   "codemirror_mode": {
    "name": "ipython",
    "version": 3
   },
   "file_extension": ".py",
   "mimetype": "text/x-python",
   "name": "python",
   "nbconvert_exporter": "python",
   "pygments_lexer": "ipython3",
   "version": "3.9.13"
  }
 },
 "nbformat": 4,
 "nbformat_minor": 5
}
